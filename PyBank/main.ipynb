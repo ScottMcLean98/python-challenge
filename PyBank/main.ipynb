{
 "cells": [
  {
   "cell_type": "code",
   "execution_count": 1,
   "id": "4f89b921",
   "metadata": {},
   "outputs": [],
   "source": [
    "import os"
   ]
  },
  {
   "cell_type": "code",
   "execution_count": 2,
   "id": "81a2f8f4",
   "metadata": {},
   "outputs": [
    {
     "data": {
      "text/plain": [
       "'C:\\\\Users\\\\smcle\\\\python-challenge\\\\PyBank'"
      ]
     },
     "execution_count": 2,
     "metadata": {},
     "output_type": "execute_result"
    }
   ],
   "source": [
    "os.getcwd()"
   ]
  },
  {
   "cell_type": "code",
   "execution_count": 3,
   "id": "c817697c",
   "metadata": {},
   "outputs": [],
   "source": [
    "import csv"
   ]
  },
  {
   "cell_type": "code",
   "execution_count": 6,
   "id": "c3b04f18",
   "metadata": {},
   "outputs": [],
   "source": [
    "budget_csv = \"Resources/budget_data.csv\""
   ]
  },
  {
   "cell_type": "code",
   "execution_count": 47,
   "id": "fbdd8d0c",
   "metadata": {},
   "outputs": [],
   "source": [
    "month_sum = 0\n",
    "total_sum = 0\n",
    "avg_change = 0\n",
    "profit_change = 0\n",
    "date_change = []\n",
    "profit_change_list = []\n",
    "best_inc = [\"\", 0]\n",
    "best_dec = [\"\", 999999999]"
   ]
  },
  {
   "cell_type": "code",
   "execution_count": 48,
   "id": "f52ba6de",
   "metadata": {},
   "outputs": [],
   "source": [
    "with open(budget_csv, 'r') as csvfile:\n",
    "    csvreader = csv.reader(csvfile)\n",
    "    csv_header = next(csvreader)\n",
    "    for row in csvreader:\n",
    "        month_sum = month_sum + 1\n",
    "        total_sum += int(row[1])\n",
    "        \n",
    "        #calculate profit change\n",
    "        if month_sum > 1:\n",
    "            profit_change = int(row[1]) - prev_profit\n",
    "            profit_change_list.append(profit_change)\n",
    "            date_change.append(row[0])\n",
    "            \n",
    "            #get the best increase and decrease\n",
    "            if profit_change > best_inc[1]:\n",
    "                best_inc[0] = row[0]\n",
    "                best_inc[1] = profit_change\n",
    "            if profit_change < best_dec[1]:\n",
    "                best_dec[0] = row[0]\n",
    "                best_dec[1] = profit_change\n",
    "        \n",
    "        prev_profit = int(row[1])\n",
    "    "
   ]
  },
  {
   "cell_type": "code",
   "execution_count": 49,
   "id": "8e9d2811",
   "metadata": {},
   "outputs": [],
   "source": [
    "#finding the average profit change\n",
    "avg_change = round(sum(profit_change_list) / len(profit_change_list), 2)"
   ]
  },
  {
   "cell_type": "code",
   "execution_count": null,
   "id": "e37ab03b",
   "metadata": {},
   "outputs": [],
   "source": []
  },
  {
   "cell_type": "code",
   "execution_count": 51,
   "id": "ce0b286c",
   "metadata": {},
   "outputs": [
    {
     "name": "stdout",
     "output_type": "stream",
     "text": [
      "Total Months: 86\n",
      "Total: $22564198\n",
      "Average Change: $-8311.11\n",
      "Greatest Increase in Profits: Aug-16($1862002)\n",
      "Greatest Decrease in Profit: Feb-14($-1825558)\n"
     ]
    }
   ],
   "source": [
    "print(\"Total Months: \" + str(month_sum))\n",
    "print(f\"Total: ${total_sum}\")\n",
    "print(f\"Average Change: ${avg_change}\")\n",
    "print(f\"Greatest Increase in Profits: {best_inc[0]}(${best_inc[1]})\")\n",
    "print(f\"Greatest Decrease in Profit: {best_dec[0]}(${best_dec[1]})\")"
   ]
  },
  {
   "cell_type": "code",
   "execution_count": null,
   "id": "cf7520d3",
   "metadata": {},
   "outputs": [],
   "source": []
  }
 ],
 "metadata": {
  "kernelspec": {
   "display_name": "Python [conda env:PythonData]",
   "language": "python",
   "name": "conda-env-PythonData-py"
  },
  "language_info": {
   "codemirror_mode": {
    "name": "ipython",
    "version": 3
   },
   "file_extension": ".py",
   "mimetype": "text/x-python",
   "name": "python",
   "nbconvert_exporter": "python",
   "pygments_lexer": "ipython3",
   "version": "3.6.10"
  }
 },
 "nbformat": 4,
 "nbformat_minor": 5
}
